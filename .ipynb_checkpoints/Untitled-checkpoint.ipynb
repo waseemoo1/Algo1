{
 "cells": [
  {
   "cell_type": "code",
   "execution_count": 8,
   "id": "f0a15931-a555-4d6d-b32e-48f6733b8d5e",
   "metadata": {},
   "outputs": [],
   "source": [
    "test_data_file = open(\"input.txt\", 'r')\n",
    "test_data_list = test_data_file.read().splitlines()\n",
    "test_data_file.close()"
   ]
  },
  {
   "cell_type": "code",
   "execution_count": 9,
   "id": "a77fe0d7-e165-4363-9b76-42cf62daa14b",
   "metadata": {},
   "outputs": [],
   "source": [
    "import numpy as np"
   ]
  },
  {
   "cell_type": "code",
   "execution_count": 10,
   "id": "277b57c1-1199-4849-b51f-26714aac4d85",
   "metadata": {},
   "outputs": [
    {
     "name": "stdout",
     "output_type": "stream",
     "text": [
      "['. . . . . # T', '. P0 # # . # .', 'D0 . . # . . .', '. . . # . . .']\n"
     ]
    }
   ],
   "source": [
    "print(test_data_list)"
   ]
  },
  {
   "cell_type": "code",
   "execution_count": 11,
   "id": "c45c3446-05bc-41cb-bb87-9754b14fbdde",
   "metadata": {},
   "outputs": [
    {
     "name": "stdout",
     "output_type": "stream",
     "text": [
      "[['.' '.' '.' '.' '.' '#' 'T']\n",
      " ['.' 'P0' '#' '#' '.' '#' '.']\n",
      " ['D0' '.' '.' '#' '.' '.' '.']\n",
      " ['.' '.' '.' '#' '.' '.' '.']]\n"
     ]
    }
   ],
   "source": [
    "test = []\n",
    "for record in test_data_list:\n",
    "    all_values = record.split(' ')\n",
    "    test.append(all_values)\n",
    "\n",
    "\n",
    "test = np.asarray(test)\n",
    "print(test)"
   ]
  },
  {
   "cell_type": "code",
   "execution_count": null,
   "id": "09a65dcc-83bd-4d2e-a83b-60b1dd06d255",
   "metadata": {},
   "outputs": [],
   "source": []
  }
 ],
 "metadata": {
  "kernelspec": {
   "display_name": "Python 3",
   "language": "python",
   "name": "python3"
  },
  "language_info": {
   "codemirror_mode": {
    "name": "ipython",
    "version": 3
   },
   "file_extension": ".py",
   "mimetype": "text/x-python",
   "name": "python",
   "nbconvert_exporter": "python",
   "pygments_lexer": "ipython3",
   "version": "3.8.8"
  }
 },
 "nbformat": 4,
 "nbformat_minor": 5
}
