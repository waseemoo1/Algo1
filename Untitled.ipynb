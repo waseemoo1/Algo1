{
 "cells": [
  {
   "cell_type": "code",
   "execution_count": 1,
   "id": "f0a15931-a555-4d6d-b32e-48f6733b8d5e",
   "metadata": {},
   "outputs": [],
   "source": [
    "test_data_file = open(\"input.txt\", 'r')\n",
    "test_data_list = test_data_file.read().splitlines()\n",
    "test_data_file.close()"
   ]
  },
  {
   "cell_type": "code",
   "execution_count": 5,
   "id": "a77fe0d7-e165-4363-9b76-42cf62daa14b",
   "metadata": {},
   "outputs": [],
   "source": [
    "import numpy as np"
   ]
  },
  {
   "cell_type": "code",
   "execution_count": 6,
   "id": "277b57c1-1199-4849-b51f-26714aac4d85",
   "metadata": {},
   "outputs": [
    {
     "name": "stdout",
     "output_type": "stream",
     "text": [
      "['. T . . . # .', '. P0 # # . # .', 'D0 . . # . . .', '. . . # . . .']\n"
     ]
    }
   ],
   "source": [
    "print(test_data_list)"
   ]
  },
  {
   "cell_type": "code",
   "execution_count": 7,
   "id": "062690ca-2891-4ae9-9a27-c11a10501af0",
   "metadata": {},
   "outputs": [
    {
     "name": "stdout",
     "output_type": "stream",
     "text": [
      "[['.' 'T' '.' '.' '.' '#' '.']\n",
      " ['.' 'P0' '#' '#' '.' '#' '.']\n",
      " ['D0' '.' '.' '#' '.' '.' '.']\n",
      " ['.' '.' '.' '#' '.' '.' '.']]\n"
     ]
    }
   ],
   "source": [
    "test = []\n",
    "for record in test_data_list:\n",
    "    all_values = record.split(' ')\n",
    "    test.append(all_values)\n",
    "\n",
    "\n",
    "test = np.asarray(test)\n",
    "\n",
    "test[0][6] = '.'\n",
    "print(test)\n"
   ]
  },
  {
   "cell_type": "code",
   "execution_count": 8,
   "id": "26eb4b6e-f02b-4626-b6d7-40ea990e3ae7",
   "metadata": {},
   "outputs": [
    {
     "name": "stdout",
     "output_type": "stream",
     "text": [
      "[['P2' 'T' '.' '.' '.' '#' '.']\n",
      " ['.' 'P0' '#' '#' '.' '#' '.']\n",
      " ['D0' '.' '.' '#' '.' '.' '.']\n",
      " ['.' '.' '.' '#' '.' '.' '.']]\n"
     ]
    }
   ],
   "source": [
    "test[0,0] = 'P2'\n",
    "print(test)\n"
   ]
  },
  {
   "cell_type": "code",
   "execution_count": 11,
   "id": "09a65dcc-83bd-4d2e-a83b-60b1dd06d255",
   "metadata": {},
   "outputs": [
    {
     "ename": "IndexError",
     "evalue": "index 0 is out of bounds for axis 0 with size 0",
     "output_type": "error",
     "traceback": [
      "\u001b[1;31m---------------------------------------------------------------------------\u001b[0m",
      "\u001b[1;31mIndexError\u001b[0m                                Traceback (most recent call last)",
      "\u001b[1;32m<ipython-input-11-96f36533b2d4>\u001b[0m in \u001b[0;36m<module>\u001b[1;34m\u001b[0m\n\u001b[0;32m      2\u001b[0m \u001b[1;32mfor\u001b[0m \u001b[0mi\u001b[0m \u001b[1;32min\u001b[0m \u001b[0mrange\u001b[0m\u001b[1;33m(\u001b[0m\u001b[1;36m2\u001b[0m\u001b[1;33m)\u001b[0m\u001b[1;33m:\u001b[0m\u001b[1;33m\u001b[0m\u001b[1;33m\u001b[0m\u001b[0m\n\u001b[0;32m      3\u001b[0m     \u001b[0mposition\u001b[0m \u001b[1;33m=\u001b[0m \u001b[0mnp\u001b[0m\u001b[1;33m.\u001b[0m\u001b[0marray\u001b[0m\u001b[1;33m(\u001b[0m\u001b[0mnp\u001b[0m\u001b[1;33m.\u001b[0m\u001b[0mwhere\u001b[0m\u001b[1;33m(\u001b[0m\u001b[0mtest\u001b[0m \u001b[1;33m==\u001b[0m \u001b[1;34mf'P{i}'\u001b[0m\u001b[1;33m)\u001b[0m\u001b[1;33m)\u001b[0m\u001b[1;33m.\u001b[0m\u001b[0mflatten\u001b[0m\u001b[1;33m(\u001b[0m\u001b[1;33m)\u001b[0m\u001b[1;33m\u001b[0m\u001b[1;33m\u001b[0m\u001b[0m\n\u001b[1;32m----> 4\u001b[1;33m     \u001b[0mdic\u001b[0m\u001b[1;33m[\u001b[0m\u001b[1;33m(\u001b[0m\u001b[0mposition\u001b[0m\u001b[1;33m[\u001b[0m\u001b[1;36m0\u001b[0m\u001b[1;33m]\u001b[0m \u001b[1;33m,\u001b[0m\u001b[0mposition\u001b[0m\u001b[1;33m[\u001b[0m\u001b[1;36m1\u001b[0m\u001b[1;33m]\u001b[0m\u001b[1;33m)\u001b[0m\u001b[1;33m]\u001b[0m \u001b[1;33m=\u001b[0m \u001b[0mi\u001b[0m\u001b[1;33m\u001b[0m\u001b[1;33m\u001b[0m\u001b[0m\n\u001b[0m\u001b[0;32m      5\u001b[0m \u001b[1;33m\u001b[0m\u001b[0m\n\u001b[0;32m      6\u001b[0m \u001b[1;31m#     dic[np.array(np.where(test == f'P{i}')).flatten()]=i\u001b[0m\u001b[1;33m\u001b[0m\u001b[1;33m\u001b[0m\u001b[1;33m\u001b[0m\u001b[0m\n",
      "\u001b[1;31mIndexError\u001b[0m: index 0 is out of bounds for axis 0 with size 0"
     ]
    }
   ],
   "source": [
    "dic={}\n",
    "for i in range(2):\n",
    "    position = np.array(np.where(test == f'P{i}')).flatten()\n",
    "    dic[(position[0] ,position[1])] = i\n",
    "    \n",
    "#     dic[np.array(np.where(test == f'P{i}')).flatten()]=i\n",
    "    \n",
    "    \n",
    "truck=[1,0]\n",
    "dic.get((truck[0] , truck[1]),-1)\n",
    "# for i in dic.items():\n",
    "#     print(i)"
   ]
  },
  {
   "cell_type": "code",
   "execution_count": 216,
   "id": "a9b31507-6051-44b2-8ccc-8c74c7b8a28f",
   "metadata": {},
   "outputs": [
    {
     "name": "stdout",
     "output_type": "stream",
     "text": [
      "[1 2 3 4]\n"
     ]
    }
   ],
   "source": [
    "x= np.array([1,2,3,4])\n",
    "x = np.delete(x,np.where(x==6))\n",
    "print(x)"
   ]
  },
  {
   "cell_type": "code",
   "execution_count": 267,
   "id": "dfe56400-c9cd-4f62-bb81-545fc8f6f864",
   "metadata": {},
   "outputs": [
    {
     "name": "stdout",
     "output_type": "stream",
     "text": [
      "[1. 1. 1.]\n"
     ]
    }
   ],
   "source": [
    "# x = []\n",
    "np.appentprint(x)"
   ]
  },
  {
   "cell_type": "code",
   "execution_count": 263,
   "id": "e7e0a631-1ace-45ce-9d8f-95538df979aa",
   "metadata": {},
   "outputs": [
    {
     "data": {
      "text/plain": [
       "9"
      ]
     },
     "execution_count": 263,
     "metadata": {},
     "output_type": "execute_result"
    }
   ],
   "source": [
    "np.where( np.array(x)==1)\n",
    "len(x)"
   ]
  },
  {
   "cell_type": "code",
   "execution_count": 275,
   "id": "9733506f-622a-4870-bd50-241c033b22ce",
   "metadata": {},
   "outputs": [],
   "source": [
    "test = {}"
   ]
  },
  {
   "cell_type": "code",
   "execution_count": 276,
   "id": "c9e28d1c-2765-4fa0-b3fd-9109b2818859",
   "metadata": {},
   "outputs": [],
   "source": [
    "test[(1 , 0)] = 5"
   ]
  },
  {
   "cell_type": "code",
   "execution_count": 277,
   "id": "0f89f551-e468-4c88-bfa9-957ef644fe7b",
   "metadata": {},
   "outputs": [
    {
     "name": "stdout",
     "output_type": "stream",
     "text": [
      "5\n"
     ]
    }
   ],
   "source": [
    "position = (1,0)\n",
    "print(test[(position)])"
   ]
  },
  {
   "cell_type": "code",
   "execution_count": 278,
   "id": "982a1b56-2440-49c7-9c6c-e4d9d8caa6f4",
   "metadata": {},
   "outputs": [
    {
     "data": {
      "text/plain": [
       "{(1, 0): 5}"
      ]
     },
     "execution_count": 278,
     "metadata": {},
     "output_type": "execute_result"
    }
   ],
   "source": [
    "test"
   ]
  },
  {
   "cell_type": "code",
   "execution_count": 281,
   "id": "04542e62-348c-4d0d-9bf9-03c1daddd050",
   "metadata": {},
   "outputs": [
    {
     "ename": "KeyError",
     "evalue": "(0, 0)",
     "output_type": "error",
     "traceback": [
      "\u001b[1;31m---------------------------------------------------------------------------\u001b[0m",
      "\u001b[1;31mKeyError\u001b[0m                                  Traceback (most recent call last)",
      "\u001b[1;32m<ipython-input-281-a5fa81c912c1>\u001b[0m in \u001b[0;36m<module>\u001b[1;34m\u001b[0m\n\u001b[1;32m----> 1\u001b[1;33m \u001b[0mtest\u001b[0m\u001b[1;33m.\u001b[0m\u001b[0mpop\u001b[0m\u001b[1;33m(\u001b[0m\u001b[1;33m(\u001b[0m\u001b[1;36m0\u001b[0m\u001b[1;33m,\u001b[0m\u001b[1;36m0\u001b[0m\u001b[1;33m)\u001b[0m\u001b[1;33m)\u001b[0m\u001b[1;33m\u001b[0m\u001b[1;33m\u001b[0m\u001b[0m\n\u001b[0m",
      "\u001b[1;31mKeyError\u001b[0m: (0, 0)"
     ]
    }
   ],
   "source": [
    "test.pop((0,0))"
   ]
  },
  {
   "cell_type": "code",
   "execution_count": 8,
   "id": "2798d8d9-17db-49bd-94e2-f27afa2d3eec",
   "metadata": {},
   "outputs": [],
   "source": [
    "import numpy as np\n",
    "array = np.array([1,2,3,4,5])"
   ]
  },
  {
   "cell_type": "code",
   "execution_count": 9,
   "id": "b2af193e-b0bb-473c-b457-1977d7d24975",
   "metadata": {},
   "outputs": [],
   "source": [
    "array = array[array != 5]"
   ]
  },
  {
   "cell_type": "code",
   "execution_count": 30,
   "id": "a52c2799-969f-44df-915a-f7319aada0fd",
   "metadata": {},
   "outputs": [],
   "source": [
    "test = np.array([1,2])\n",
    "test2 = np.array([1,2])"
   ]
  },
  {
   "cell_type": "code",
   "execution_count": 31,
   "id": "d9c0781f-ce28-4c09-9455-73c82697239f",
   "metadata": {},
   "outputs": [
    {
     "data": {
      "text/plain": [
       "True"
      ]
     },
     "execution_count": 31,
     "metadata": {},
     "output_type": "execute_result"
    }
   ],
   "source": [
    "np.all(test == test2)\n",
    "# test == test2"
   ]
  },
  {
   "cell_type": "code",
   "execution_count": 32,
   "id": "39c4148a",
   "metadata": {},
   "outputs": [
    {
     "data": {
      "text/plain": [
       "0"
      ]
     },
     "execution_count": 32,
     "metadata": {},
     "output_type": "execute_result"
    }
   ],
   "source": [
    "dic = {}\n",
    "len(dic)"
   ]
  },
  {
   "cell_type": "code",
   "execution_count": 37,
   "id": "7ed3c2a5",
   "metadata": {},
   "outputs": [],
   "source": [
    "dic[1] = 10"
   ]
  },
  {
   "cell_type": "code",
   "execution_count": 38,
   "id": "ada68104",
   "metadata": {},
   "outputs": [
    {
     "data": {
      "text/plain": [
       "2"
      ]
     },
     "execution_count": 38,
     "metadata": {},
     "output_type": "execute_result"
    }
   ],
   "source": [
    "len(dic)"
   ]
  },
  {
   "cell_type": "code",
   "execution_count": null,
   "id": "70ab57ae",
   "metadata": {},
   "outputs": [],
   "source": []
  }
 ],
 "metadata": {
  "kernelspec": {
   "display_name": "Python 3",
   "language": "python",
   "name": "python3"
  },
  "language_info": {
   "codemirror_mode": {
    "name": "ipython",
    "version": 3
   },
   "file_extension": ".py",
   "mimetype": "text/x-python",
   "name": "python",
   "nbconvert_exporter": "python",
   "pygments_lexer": "ipython3",
   "version": "3.8.8"
  }
 },
 "nbformat": 4,
 "nbformat_minor": 5
}
